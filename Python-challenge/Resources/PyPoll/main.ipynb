{
 "cells": [
  {
   "cell_type": "code",
   "execution_count": 8,
   "metadata": {},
   "outputs": [
    {
     "name": "stdout",
     "output_type": "stream",
     "text": [
      "Election Results \n",
      "------------------------------\n",
      "Total Votes: 17605005 \n",
      "------------------------------\n",
      "Khan: 63.0% (11091155)\n",
      "Correy: 20.0% (3521000)\n",
      "Li: 14.0% (2464700)\n",
      "O'Tooley: 3.0% (528150)\n",
      "------------------------------\n",
      " Winner: Khan\n",
      "------------------------------\n"
     ]
    }
   ],
   "source": [
    "# First we'll import the os module\n",
    "import os\n",
    "\n",
    "# Module for reading CSV files\n",
    "import csv\n",
    "# election_data.csv\n",
    "# joining the path\n",
    "csvpath = os.path.join(\"..\",\"PyPoll\",\"election_data.csv\")\n",
    "\n",
    "# Defining variables, lists and dictionary\n",
    "Candidate = []\n",
    "candidate_info = {}\n",
    "total_votes = 0\n",
    "candidate_votes = []\n",
    "candidate_names = []\n",
    "\n",
    "# open csv file\n",
    "with open(csvpath, newline='') as csvfile:\n",
    "   # CSV reader specifies delimiter and variable that holds contents\n",
    "   election_Data = csv.reader(csvfile, delimiter=',')\n",
    "   # Read the header row first (skip this step if there is now header)\n",
    "   csv_header = next(election_Data)\n",
    "\n",
    "   # list of votes for all candidates\n",
    "   for row in election_Data:\n",
    "       cand.append(row[2])\n",
    "   for i in cand:\n",
    "       if i not in candidate_info:\n",
    "           candidate_info[i] = 1\n",
    "       else:\n",
    "           candidate_info[i] += 1\n",
    "       total_votes = total_votes + 1\n",
    "\n",
    "   for key, value in candidate_info.items():\n",
    "       candidate_names.append(key)\n",
    "       candidate_votes.append(value)\n",
    "   # Alternate\n",
    "   # for row in election_Data:\n",
    "   #     if row[2] not in candidate_info:\n",
    "   #         candidate_info[row[2]] = 1\n",
    "   #     else:\n",
    "   #         candidate_info[row[2]] += 1\n",
    "   #     total_votes = total_votes + 1\n",
    "\n",
    "# print(candidate_info)\n",
    "# print(total_votes)\n",
    "# print(candidate_names)\n",
    "# print(candidate_votes)\n",
    "# print(max(candidate_votes))\n",
    "\n",
    "pct_of_votes = [(a*100) / total_votes for a in (candidate_votes)]\n",
    "#     #print(pct_of_votes)\n",
    "print(\"Election Results \\n------------------------------\")\n",
    "print(f\"Total Votes: {total_votes} \\n------------------------------\")\n",
    "for i in range(len(candidate_names)):\n",
    "   print(f\"{candidate_names[i]}: {round(pct_of_votes[i],3)}% ({candidate_votes[i]})\")\n",
    "print(f\"------------------------------\\n Winner: {candidate_names[candidate_votes.index(max(candidate_votes))]}\\n------------------------------\")"
   ]
  },
  {
   "cell_type": "code",
   "execution_count": null,
   "metadata": {},
   "outputs": [],
   "source": []
  },
  {
   "cell_type": "code",
   "execution_count": null,
   "metadata": {},
   "outputs": [],
   "source": []
  }
 ],
 "metadata": {
  "kernelspec": {
   "display_name": "Python 3",
   "language": "python",
   "name": "python3"
  },
  "language_info": {
   "codemirror_mode": {
    "name": "ipython",
    "version": 3
   },
   "file_extension": ".py",
   "mimetype": "text/x-python",
   "name": "python",
   "nbconvert_exporter": "python",
   "pygments_lexer": "ipython3",
   "version": "3.7.3"
  }
 },
 "nbformat": 4,
 "nbformat_minor": 2
}
