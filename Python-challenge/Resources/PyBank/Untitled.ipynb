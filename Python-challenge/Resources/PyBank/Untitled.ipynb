{
 "cells": [
  {
   "cell_type": "code",
   "execution_count": 3,
   "metadata": {},
   "outputs": [
    {
     "ename": "FileNotFoundError",
     "evalue": "[Errno 2] No such file or directory: '..\\\\PyBank\\\\budget_data.csv'",
     "output_type": "error",
     "traceback": [
      "\u001b[1;31m---------------------------------------------------------------------------\u001b[0m",
      "\u001b[1;31mFileNotFoundError\u001b[0m                         Traceback (most recent call last)",
      "\u001b[1;32m<ipython-input-3-e18324f0e851>\u001b[0m in \u001b[0;36m<module>\u001b[1;34m\u001b[0m\n\u001b[0;32m     20\u001b[0m \u001b[1;33m\u001b[0m\u001b[0m\n\u001b[0;32m     21\u001b[0m \u001b[1;33m\u001b[0m\u001b[0m\n\u001b[1;32m---> 22\u001b[1;33m \u001b[1;32mwith\u001b[0m \u001b[0mopen\u001b[0m\u001b[1;33m(\u001b[0m\u001b[0mcsvpath\u001b[0m\u001b[1;33m,\u001b[0m \u001b[0mnewline\u001b[0m\u001b[1;33m=\u001b[0m\u001b[1;34m''\u001b[0m\u001b[1;33m)\u001b[0m \u001b[1;32mas\u001b[0m \u001b[0mcsvfile\u001b[0m\u001b[1;33m:\u001b[0m\u001b[1;33m\u001b[0m\u001b[1;33m\u001b[0m\u001b[0m\n\u001b[0m\u001b[0;32m     23\u001b[0m    \u001b[1;31m# CSV reader specifies delimiter and variable that holds contents\u001b[0m\u001b[1;33m\u001b[0m\u001b[1;33m\u001b[0m\u001b[1;33m\u001b[0m\u001b[0m\n\u001b[0;32m     24\u001b[0m    \u001b[0mcsvreader\u001b[0m \u001b[1;33m=\u001b[0m \u001b[0mcsv\u001b[0m\u001b[1;33m.\u001b[0m\u001b[0mreader\u001b[0m\u001b[1;33m(\u001b[0m\u001b[0mcsvfile\u001b[0m\u001b[1;33m,\u001b[0m \u001b[0mdelimiter\u001b[0m\u001b[1;33m=\u001b[0m\u001b[1;34m','\u001b[0m\u001b[1;33m)\u001b[0m\u001b[1;33m\u001b[0m\u001b[1;33m\u001b[0m\u001b[0m\n",
      "\u001b[1;31mFileNotFoundError\u001b[0m: [Errno 2] No such file or directory: '..\\\\PyBank\\\\budget_data.csv'"
     ]
    }
   ],
   "source": [
    "# Homework completed by Mohammad Zahid Shiwani, Adrian William Vojvodic, Wyatt Carnes\n",
    "\n",
    "# First we'll import the os module\n",
    "import os\n",
    "\n",
    "# Module for reading CSV files\n",
    "import csv\n",
    "\n",
    "csvpath = os.path.join(\"..\",\"PyBank\",\"budget_data.csv\")\n",
    "date = []\n",
    "revenue = 0\n",
    "coInfo = []\n",
    "x = 0\n",
    "pftCh = []\n",
    "bkPft = float(0)\n",
    "bkLss = float(0)\n",
    "diff = 0\n",
    "sm=0\n",
    "\n",
    "\n",
    "\n",
    "with open(csvpath, newline='') as csvfile:\n",
    "   # CSV reader specifies delimiter and variable that holds contents\n",
    "   csvreader = csv.reader(csvfile, delimiter=',')\n",
    "   # Read the header row first (skip this step if there is now header)\n",
    "   csv_header = next(csvreader)\n",
    "   print(f\"CSV Header: {csv_header}\")\n",
    "   # coInfo = list(csvreader)\n",
    "   for row in csvreader:\n",
    "       date.append(row[0])\n",
    "       coInfo.append(row[1])\n",
    "       revenue = revenue + int(row[1])\n",
    "   for x in range(1,len(coInfo)):\n",
    "       diff = int(coInfo[x]) - int(coInfo[x - 1])\n",
    "       sm=diff+sm\n",
    "       pftCh.append((diff))\n",
    "       bkPft = max(pftCh)\n",
    "       pftCh.index(max(pftCh))\n",
    "       bkLss = (min(pftCh))\n",
    "       chAvg = int(sm) / (len(coInfo)-1)\n",
    "print(\"Financial Analysis \\n------------------------------\")\n",
    "print(f\"Total Months: {len(date)}\")\n",
    "print(f\"Total: ${revenue}\")\n",
    "print(f\"Average Change: {round(chAvg,2)}\")\n",
    "print(f\"Greatest Increase in Profits: {date[(pftCh.index(max(pftCh))+1)]} ${ (bkPft)}\")\n",
    "print(f\"Greatest Decrease in Profits: {date[(pftCh.index(min(pftCh))+1)]} ${ (bkLss)}\")\n",
    "\n",
    "\n",
    "# Specify the file to write to\n",
    "output_path = os.path.join(\"PyBank\", \"new.txt\")\n",
    "\n",
    "# Open the file using \"write\" mode. Specify the variable to hold the contents\n",
    "with open(output_path, 'w', newline='') as csvfile:\n",
    "\n",
    "   # Initialize csv.writer\n",
    "   csvwriter = csv.writer(csvfile, delimiter=',')\n",
    "\n",
    "   csvwriter.writerow([\"Financial Analysis\"])\n",
    "   csvwriter.writerow([\"------------------------------\"])\n",
    "   csvwriter.writerow([f\"Total Months: {len(date)}\"])\n",
    "   csvwriter.writerow([f\"Total: ${revenue}\"])\n",
    "   csvwriter.writerow([f\"Average Change: {round(chAvg,2)}\"])\n",
    "   csvwriter.writerow([f\"Greatest Increase in Profits: {date[(pftCh.index(max(pftCh))+1)]} ${ (bkPft)}\"])\n",
    "   csvwriter.writerow([f\"Greatest Decrease in Profits: {date[(pftCh.index(min(pftCh))+1)]} ${ (bkLss)}\"])"
   ]
  },
  {
   "cell_type": "code",
   "execution_count": null,
   "metadata": {},
   "outputs": [],
   "source": []
  }
 ],
 "metadata": {
  "kernelspec": {
   "display_name": "Python 3",
   "language": "python",
   "name": "python3"
  },
  "language_info": {
   "codemirror_mode": {
    "name": "ipython",
    "version": 3
   },
   "file_extension": ".py",
   "mimetype": "text/x-python",
   "name": "python",
   "nbconvert_exporter": "python",
   "pygments_lexer": "ipython3",
   "version": "3.7.3"
  }
 },
 "nbformat": 4,
 "nbformat_minor": 2
}
